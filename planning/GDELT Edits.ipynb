{
 "cells": [
  {
   "cell_type": "code",
   "execution_count": 1,
   "metadata": {},
   "outputs": [],
   "source": [
    "import psycopg2\n",
    "import json"
   ]
  },
  {
   "cell_type": "code",
   "execution_count": 3,
   "metadata": {},
   "outputs": [],
   "source": [
    "con = psycopg2.connect(dbname='gdelt_updates', user='postgres', password='postgres', host='localhost')\n",
    "cur = con.cursor()"
   ]
  },
  {
   "cell_type": "code",
   "execution_count": 4,
   "metadata": {},
   "outputs": [],
   "source": [
    "cur.execute('''\n",
    "            select globaleventid, keywords from gdelt_edit\n",
    "            where keywords like '%woman%'\n",
    "            ''')\n",
    "\n",
    "res = cur.fetchall()\n",
    "\n",
    "data = []\n",
    "\n",
    "for row in res:\n",
    "    keys = row[1]\n",
    "    keys = keys.replace('woman', 'women')\n",
    "    data.append((row[0], keys))"
   ]
  },
  {
   "cell_type": "code",
   "execution_count": 5,
   "metadata": {},
   "outputs": [
    {
     "data": {
      "text/plain": [
       "(412613192,\n",
       " 'arrested, berrio, crime, hate, nypd, social, white, women, worker, york, yorks, young, younger')"
      ]
     },
     "execution_count": 5,
     "metadata": {},
     "output_type": "execute_result"
    }
   ],
   "source": [
    "data[0]"
   ]
  },
  {
   "cell_type": "code",
   "execution_count": 6,
   "metadata": {},
   "outputs": [],
   "source": [
    "for row in data:\n",
    "    cur.execute(f'''\n",
    "                update gdelt_edit\n",
    "                set keywords = '{row[1]}'\n",
    "                where globaleventid = {row[0]}\n",
    "                ''')"
   ]
  },
  {
   "cell_type": "code",
   "execution_count": 7,
   "metadata": {},
   "outputs": [],
   "source": [
    "con.commit()"
   ]
  },
  {
   "cell_type": "code",
   "execution_count": null,
   "metadata": {},
   "outputs": [],
   "source": []
  }
 ],
 "metadata": {
  "kernelspec": {
   "display_name": "Python 3",
   "language": "python",
   "name": "python3"
  },
  "language_info": {
   "codemirror_mode": {
    "name": "ipython",
    "version": 3
   },
   "file_extension": ".py",
   "mimetype": "text/x-python",
   "name": "python",
   "nbconvert_exporter": "python",
   "pygments_lexer": "ipython3",
   "version": "3.7.2"
  }
 },
 "nbformat": 4,
 "nbformat_minor": 2
}
