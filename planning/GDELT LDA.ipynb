{
 "cells": [
  {
   "cell_type": "code",
   "execution_count": 1,
   "metadata": {},
   "outputs": [],
   "source": [
    "from newspaper import Article\n",
    "import pandas as pd\n",
    "import psycopg2\n",
    "import json\n",
    "import re"
   ]
  },
  {
   "cell_type": "code",
   "execution_count": 2,
   "metadata": {},
   "outputs": [],
   "source": [
    "def get_connection():\n",
    "\n",
    "    return psycopg2.connect(dbname='gdelt_updates', user='postgres', password='postgres', host='localhost')"
   ]
  },
  {
   "cell_type": "code",
   "execution_count": 3,
   "metadata": {},
   "outputs": [],
   "source": [
    "def text_fetch(url):\n",
    "    \n",
    "    try:\n",
    "        article = Article(url)\n",
    "        article.download()\n",
    "        article.parse()\n",
    "        \n",
    "        return re.sub('[^0-9a-zA-Z]+', ' ', article.text.lower())\n",
    "    \n",
    "    except:\n",
    "        return ' '"
   ]
  },
  {
   "cell_type": "code",
   "execution_count": 4,
   "metadata": {},
   "outputs": [],
   "source": [
    "events  = json.load(open('gdelt_hate.json', 'rb'))\n",
    "windows = list(events.keys())"
   ]
  },
  {
   "cell_type": "code",
   "execution_count": 5,
   "metadata": {},
   "outputs": [
    {
     "name": "stdout",
     "output_type": "stream",
     "text": [
      "Processed: 20160510_20160513\n",
      "Processed: 20181111_20181118\n",
      "Processed: 20181231_20190106\n",
      "Processed: 20170927_20171001\n",
      "Processed: 20180213_20180217\n",
      "Processed: 20160401_20160403\n"
     ]
    },
    {
     "name": "stderr",
     "output_type": "stream",
     "text": [
      "C:\\Users\\jeff8977\\AppData\\Local\\Continuum\\miniconda3\\envs\\gdelt\\lib\\site-packages\\dateutil\\parser\\_parser.py:1204: UnknownTimezoneWarning: tzname EDT identified but not understood.  Pass `tzinfos` argument in order to correctly return a timezone-aware datetime.  In a future version, this will raise an exception.\n",
      "  category=UnknownTimezoneWarning)\n"
     ]
    },
    {
     "name": "stdout",
     "output_type": "stream",
     "text": [
      "Processed: 20190413_20190420\n",
      "Processed: 20180927_20180930\n"
     ]
    },
    {
     "name": "stderr",
     "output_type": "stream",
     "text": [
      "C:\\Users\\jeff8977\\AppData\\Local\\Continuum\\miniconda3\\envs\\gdelt\\lib\\site-packages\\dateutil\\parser\\_parser.py:1204: UnknownTimezoneWarning: tzname BST identified but not understood.  Pass `tzinfos` argument in order to correctly return a timezone-aware datetime.  In a future version, this will raise an exception.\n",
      "  category=UnknownTimezoneWarning)\n",
      "C:\\Users\\jeff8977\\AppData\\Local\\Continuum\\miniconda3\\envs\\gdelt\\lib\\site-packages\\dateutil\\parser\\_parser.py:1204: UnknownTimezoneWarning: tzname ET identified but not understood.  Pass `tzinfos` argument in order to correctly return a timezone-aware datetime.  In a future version, this will raise an exception.\n",
      "  category=UnknownTimezoneWarning)\n"
     ]
    },
    {
     "name": "stdout",
     "output_type": "stream",
     "text": [
      "Processed: 20170802_20170904\n"
     ]
    },
    {
     "name": "stderr",
     "output_type": "stream",
     "text": [
      "C:\\Users\\jeff8977\\AppData\\Local\\Continuum\\miniconda3\\envs\\gdelt\\lib\\site-packages\\dateutil\\parser\\_parser.py:1204: UnknownTimezoneWarning: tzname IST identified but not understood.  Pass `tzinfos` argument in order to correctly return a timezone-aware datetime.  In a future version, this will raise an exception.\n",
      "  category=UnknownTimezoneWarning)\n"
     ]
    },
    {
     "name": "stdout",
     "output_type": "stream",
     "text": [
      "Processed: 20170404_20170408\n",
      "Processed: 20150413_20150420\n",
      "Processed: 20150511_20150516\n"
     ]
    },
    {
     "name": "stderr",
     "output_type": "stream",
     "text": [
      "C:\\Users\\jeff8977\\AppData\\Local\\Continuum\\miniconda3\\envs\\gdelt\\lib\\site-packages\\PIL\\TiffImagePlugin.py:763: UserWarning: Possibly corrupt EXIF data.  Expecting to read 8 bytes but only got 6. Skipping tag 33437\n",
      "  \" Skipping tag %s\" % (size, len(data), tag))\n",
      "C:\\Users\\jeff8977\\AppData\\Local\\Continuum\\miniconda3\\envs\\gdelt\\lib\\site-packages\\PIL\\TiffImagePlugin.py:763: UserWarning: Possibly corrupt EXIF data.  Expecting to read 20 bytes but only got 0. Skipping tag 36867\n",
      "  \" Skipping tag %s\" % (size, len(data), tag))\n",
      "C:\\Users\\jeff8977\\AppData\\Local\\Continuum\\miniconda3\\envs\\gdelt\\lib\\site-packages\\PIL\\TiffImagePlugin.py:763: UserWarning: Possibly corrupt EXIF data.  Expecting to read 20 bytes but only got 0. Skipping tag 36868\n",
      "  \" Skipping tag %s\" % (size, len(data), tag))\n",
      "C:\\Users\\jeff8977\\AppData\\Local\\Continuum\\miniconda3\\envs\\gdelt\\lib\\site-packages\\PIL\\TiffImagePlugin.py:763: UserWarning: Possibly corrupt EXIF data.  Expecting to read 8 bytes but only got 0. Skipping tag 37377\n",
      "  \" Skipping tag %s\" % (size, len(data), tag))\n",
      "C:\\Users\\jeff8977\\AppData\\Local\\Continuum\\miniconda3\\envs\\gdelt\\lib\\site-packages\\PIL\\TiffImagePlugin.py:763: UserWarning: Possibly corrupt EXIF data.  Expecting to read 8 bytes but only got 0. Skipping tag 37378\n",
      "  \" Skipping tag %s\" % (size, len(data), tag))\n",
      "C:\\Users\\jeff8977\\AppData\\Local\\Continuum\\miniconda3\\envs\\gdelt\\lib\\site-packages\\PIL\\TiffImagePlugin.py:763: UserWarning: Possibly corrupt EXIF data.  Expecting to read 8 bytes but only got 0. Skipping tag 37380\n",
      "  \" Skipping tag %s\" % (size, len(data), tag))\n",
      "C:\\Users\\jeff8977\\AppData\\Local\\Continuum\\miniconda3\\envs\\gdelt\\lib\\site-packages\\PIL\\TiffImagePlugin.py:763: UserWarning: Possibly corrupt EXIF data.  Expecting to read 8 bytes but only got 0. Skipping tag 37381\n",
      "  \" Skipping tag %s\" % (size, len(data), tag))\n",
      "C:\\Users\\jeff8977\\AppData\\Local\\Continuum\\miniconda3\\envs\\gdelt\\lib\\site-packages\\PIL\\TiffImagePlugin.py:763: UserWarning: Possibly corrupt EXIF data.  Expecting to read 8 bytes but only got 0. Skipping tag 37386\n",
      "  \" Skipping tag %s\" % (size, len(data), tag))\n",
      "C:\\Users\\jeff8977\\AppData\\Local\\Continuum\\miniconda3\\envs\\gdelt\\lib\\site-packages\\PIL\\TiffImagePlugin.py:763: UserWarning: Possibly corrupt EXIF data.  Expecting to read 8 bytes but only got 0. Skipping tag 41486\n",
      "  \" Skipping tag %s\" % (size, len(data), tag))\n",
      "C:\\Users\\jeff8977\\AppData\\Local\\Continuum\\miniconda3\\envs\\gdelt\\lib\\site-packages\\PIL\\TiffImagePlugin.py:763: UserWarning: Possibly corrupt EXIF data.  Expecting to read 8 bytes but only got 0. Skipping tag 41487\n",
      "  \" Skipping tag %s\" % (size, len(data), tag))\n",
      "C:\\Users\\jeff8977\\AppData\\Local\\Continuum\\miniconda3\\envs\\gdelt\\lib\\site-packages\\PIL\\TiffImagePlugin.py:763: UserWarning: Possibly corrupt EXIF data.  Expecting to read 13 bytes but only got 0. Skipping tag 42033\n",
      "  \" Skipping tag %s\" % (size, len(data), tag))\n",
      "C:\\Users\\jeff8977\\AppData\\Local\\Continuum\\miniconda3\\envs\\gdelt\\lib\\site-packages\\PIL\\TiffImagePlugin.py:763: UserWarning: Possibly corrupt EXIF data.  Expecting to read 32 bytes but only got 0. Skipping tag 42034\n",
      "  \" Skipping tag %s\" % (size, len(data), tag))\n",
      "C:\\Users\\jeff8977\\AppData\\Local\\Continuum\\miniconda3\\envs\\gdelt\\lib\\site-packages\\PIL\\TiffImagePlugin.py:763: UserWarning: Possibly corrupt EXIF data.  Expecting to read 28 bytes but only got 0. Skipping tag 42036\n",
      "  \" Skipping tag %s\" % (size, len(data), tag))\n",
      "C:\\Users\\jeff8977\\AppData\\Local\\Continuum\\miniconda3\\envs\\gdelt\\lib\\site-packages\\PIL\\TiffImagePlugin.py:763: UserWarning: Possibly corrupt EXIF data.  Expecting to read 11 bytes but only got 0. Skipping tag 42037\n",
      "  \" Skipping tag %s\" % (size, len(data), tag))\n"
     ]
    },
    {
     "name": "stdout",
     "output_type": "stream",
     "text": [
      "Processed: 20160704_20160714\n",
      "Processed: 20180310_20180318\n",
      "Processed: 20150308_20150311\n",
      "Processed: 20150314_20150411\n",
      "Processed: 20170410_20170412\n",
      "Processed: 20171016_20171022\n",
      "Processed: 20170418_20170421\n",
      "Processed: 20171218_20171221\n",
      "Processed: 20171130_20171202\n",
      "Processed: 20161127_20161204\n",
      "Processed: 20180116_20180118\n",
      "Processed: 20171225_20171231\n",
      "Processed: 20160922_20160924\n",
      "Processed: 20170119_20170213\n",
      "Processed: 20150503_20150510\n",
      "Processed: 20190519_20190522\n",
      "Processed: 20150426_20150430\n",
      "Processed: 20180321_20180325\n",
      "Processed: 20160611_20160703\n",
      "Processed: 20150611_20150615\n",
      "Processed: 20190422_20190511\n",
      "Processed: 20150617_20150627\n",
      "Processed: 20161108_20161126\n",
      "Processed: 20161221_20161224\n",
      "Processed: 20150922_20150924\n"
     ]
    },
    {
     "name": "stderr",
     "output_type": "stream",
     "text": [
      "C:\\Users\\jeff8977\\AppData\\Local\\Continuum\\miniconda3\\envs\\gdelt\\lib\\site-packages\\dateutil\\parser\\_parser.py:1204: UnknownTimezoneWarning: tzname EST identified but not understood.  Pass `tzinfos` argument in order to correctly return a timezone-aware datetime.  In a future version, this will raise an exception.\n",
      "  category=UnknownTimezoneWarning)\n"
     ]
    },
    {
     "name": "stdout",
     "output_type": "stream",
     "text": [
      "Processed: 20171205_20171217\n",
      "Processed: 20150718_20150720\n",
      "Processed: 20161010_20161012\n",
      "Processed: 20151002_20151009\n",
      "Processed: 20160127_20160131\n",
      "Processed: 20150713_20150715\n",
      "Processed: 20151101_20151108\n"
     ]
    },
    {
     "name": "stderr",
     "output_type": "stream",
     "text": [
      "C:\\Users\\jeff8977\\AppData\\Local\\Continuum\\miniconda3\\envs\\gdelt\\lib\\site-packages\\dateutil\\parser\\_parser.py:1204: UnknownTimezoneWarning: tzname PDT identified but not understood.  Pass `tzinfos` argument in order to correctly return a timezone-aware datetime.  In a future version, this will raise an exception.\n",
      "  category=UnknownTimezoneWarning)\n"
     ]
    },
    {
     "name": "stdout",
     "output_type": "stream",
     "text": [
      "Processed: 20170521_20170603\n",
      "Processed: 20150902_20150904\n",
      "Processed: 20190307_20190310\n",
      "Processed: 20180305_20180308\n",
      "Processed: 20180612_20180708\n",
      "Processed: 20170319_20170321\n",
      "Processed: 20180913_20180917\n",
      "Processed: 20170718_20170722\n",
      "Processed: 20171029_20171124\n",
      "Processed: 20170104_20170108\n",
      "Processed: 20181016_20181018\n",
      "Processed: 20160803_20160806\n",
      "Processed: 20170905_20170908\n",
      "Processed: 20170220_20170311\n",
      "Processed: 20160516_20160519\n",
      "Processed: 20170918_20170923\n",
      "Processed: 20180716_20180721\n",
      "Processed: 20170912_20170916\n",
      "Processed: 20181022_20181110\n",
      "Processed: 20150603_20150609\n",
      "Processed: 20171023_20171027\n",
      "Processed: 20160927_20160929\n",
      "Processed: 20160906_20160911\n",
      "Processed: 20190324_20190331\n",
      "Processed: 20150216_20150222\n",
      "Processed: 20170618_20170701\n",
      "Processed: 20190211_20190216\n",
      "Processed: 20160217_20160220\n",
      "Processed: 20190513_20190517\n",
      "Processed: 20151109_20151226\n",
      "Processed: 20180402_20180409\n",
      "Processed: 20180904_20180909\n",
      "Processed: 20180219_20180225\n",
      "Processed: 20160830_20160902\n",
      "Processed: 20170711_20170715\n",
      "Processed: 20160812_20160820\n",
      "Processed: 20180417_20180528\n",
      "Processed: 20160717_20160724\n",
      "Processed: 20160424_20160501\n",
      "Processed: 20160303_20160305\n",
      "Processed: 20171009_20171016\n",
      "Processed: 20151009_20151022\n",
      "Processed: 20160912_20160914\n",
      "Processed: 20180709_20180714\n",
      "Processed: 20150224_20150228\n",
      "Processed: 20161016_20161023\n",
      "Processed: 20170514_20170520\n",
      "Processed: 20151227_20160116\n",
      "Processed: 20170214_20170219\n",
      "Processed: 20150526_20150528\n",
      "Processed: 20170725_20170730\n",
      "Processed: 20150630_20150703\n",
      "Processed: 20181209_20181223\n",
      "Processed: 20190408_20190411\n",
      "Processed: 20150909_20150913\n",
      "Processed: 20190216_20190303\n",
      "Processed: 20181125_20181202\n",
      "Processed: 20171004_20171006\n",
      "Processed: 20190128_20190209\n",
      "Processed: 20180101_20180113\n",
      "Processed: 20180920_20180923\n",
      "Processed: 20160523_20160529\n"
     ]
    },
    {
     "name": "stderr",
     "output_type": "stream",
     "text": [
      "C:\\Users\\jeff8977\\AppData\\Local\\Continuum\\miniconda3\\envs\\gdelt\\lib\\site-packages\\PIL\\TiffImagePlugin.py:763: UserWarning: Possibly corrupt EXIF data.  Expecting to read 7454 bytes but only got 866. Skipping tag 270\n",
      "  \" Skipping tag %s\" % (size, len(data), tag))\n",
      "C:\\Users\\jeff8977\\AppData\\Local\\Continuum\\miniconda3\\envs\\gdelt\\lib\\site-packages\\PIL\\TiffImagePlugin.py:763: UserWarning: Possibly corrupt EXIF data.  Expecting to read 18 bytes but only got 0. Skipping tag 271\n",
      "  \" Skipping tag %s\" % (size, len(data), tag))\n",
      "C:\\Users\\jeff8977\\AppData\\Local\\Continuum\\miniconda3\\envs\\gdelt\\lib\\site-packages\\PIL\\TiffImagePlugin.py:763: UserWarning: Possibly corrupt EXIF data.  Expecting to read 11 bytes but only got 0. Skipping tag 272\n",
      "  \" Skipping tag %s\" % (size, len(data), tag))\n",
      "C:\\Users\\jeff8977\\AppData\\Local\\Continuum\\miniconda3\\envs\\gdelt\\lib\\site-packages\\PIL\\TiffImagePlugin.py:763: UserWarning: Possibly corrupt EXIF data.  Expecting to read 8 bytes but only got 0. Skipping tag 282\n",
      "  \" Skipping tag %s\" % (size, len(data), tag))\n",
      "C:\\Users\\jeff8977\\AppData\\Local\\Continuum\\miniconda3\\envs\\gdelt\\lib\\site-packages\\PIL\\TiffImagePlugin.py:763: UserWarning: Possibly corrupt EXIF data.  Expecting to read 8 bytes but only got 0. Skipping tag 283\n",
      "  \" Skipping tag %s\" % (size, len(data), tag))\n",
      "C:\\Users\\jeff8977\\AppData\\Local\\Continuum\\miniconda3\\envs\\gdelt\\lib\\site-packages\\PIL\\TiffImagePlugin.py:763: UserWarning: Possibly corrupt EXIF data.  Expecting to read 9 bytes but only got 0. Skipping tag 305\n",
      "  \" Skipping tag %s\" % (size, len(data), tag))\n",
      "C:\\Users\\jeff8977\\AppData\\Local\\Continuum\\miniconda3\\envs\\gdelt\\lib\\site-packages\\PIL\\TiffImagePlugin.py:763: UserWarning: Possibly corrupt EXIF data.  Expecting to read 20 bytes but only got 0. Skipping tag 306\n",
      "  \" Skipping tag %s\" % (size, len(data), tag))\n",
      "C:\\Users\\jeff8977\\AppData\\Local\\Continuum\\miniconda3\\envs\\gdelt\\lib\\site-packages\\PIL\\TiffImagePlugin.py:763: UserWarning: Possibly corrupt EXIF data.  Expecting to read 20 bytes but only got 0. Skipping tag 315\n",
      "  \" Skipping tag %s\" % (size, len(data), tag))\n",
      "C:\\Users\\jeff8977\\AppData\\Local\\Continuum\\miniconda3\\envs\\gdelt\\lib\\site-packages\\PIL\\TiffImagePlugin.py:780: UserWarning: Corrupt EXIF data.  Expecting to read 2 bytes but only got 0. \n",
      "  warnings.warn(str(msg))\n",
      "C:\\Users\\jeff8977\\AppData\\Local\\Continuum\\miniconda3\\envs\\gdelt\\lib\\site-packages\\PIL\\TiffImagePlugin.py:763: UserWarning: Possibly corrupt EXIF data.  Expecting to read 7454 bytes but only got 1890. Skipping tag 270\n",
      "  \" Skipping tag %s\" % (size, len(data), tag))\n",
      "C:\\Users\\jeff8977\\AppData\\Local\\Continuum\\miniconda3\\envs\\gdelt\\lib\\site-packages\\PIL\\TiffImagePlugin.py:763: UserWarning: Possibly corrupt EXIF data.  Expecting to read 7454 bytes but only got 2914. Skipping tag 270\n",
      "  \" Skipping tag %s\" % (size, len(data), tag))\n",
      "C:\\Users\\jeff8977\\AppData\\Local\\Continuum\\miniconda3\\envs\\gdelt\\lib\\site-packages\\PIL\\TiffImagePlugin.py:763: UserWarning: Possibly corrupt EXIF data.  Expecting to read 7454 bytes but only got 3938. Skipping tag 270\n",
      "  \" Skipping tag %s\" % (size, len(data), tag))\n",
      "C:\\Users\\jeff8977\\AppData\\Local\\Continuum\\miniconda3\\envs\\gdelt\\lib\\site-packages\\PIL\\TiffImagePlugin.py:763: UserWarning: Possibly corrupt EXIF data.  Expecting to read 7454 bytes but only got 4962. Skipping tag 270\n",
      "  \" Skipping tag %s\" % (size, len(data), tag))\n",
      "C:\\Users\\jeff8977\\AppData\\Local\\Continuum\\miniconda3\\envs\\gdelt\\lib\\site-packages\\PIL\\TiffImagePlugin.py:763: UserWarning: Possibly corrupt EXIF data.  Expecting to read 7454 bytes but only got 5986. Skipping tag 270\n",
      "  \" Skipping tag %s\" % (size, len(data), tag))\n",
      "C:\\Users\\jeff8977\\AppData\\Local\\Continuum\\miniconda3\\envs\\gdelt\\lib\\site-packages\\PIL\\TiffImagePlugin.py:763: UserWarning: Possibly corrupt EXIF data.  Expecting to read 7454 bytes but only got 7010. Skipping tag 270\n",
      "  \" Skipping tag %s\" % (size, len(data), tag))\n",
      "C:\\Users\\jeff8977\\AppData\\Local\\Continuum\\miniconda3\\envs\\gdelt\\lib\\site-packages\\PIL\\TiffImagePlugin.py:780: UserWarning: Corrupt EXIF data.  Expecting to read 12 bytes but only got 0. \n",
      "  warnings.warn(str(msg))\n"
     ]
    },
    {
     "name": "stdout",
     "output_type": "stream",
     "text": [
      "Processed: 20160822_20160829\n",
      "Processed: 20160503_20160508\n",
      "Processed: 20170501_20170505\n",
      "Processed: 20160202_20160209\n",
      "Processed: 20160418_20160420\n",
      "Processed: 20150817_20150829\n"
     ]
    },
    {
     "name": "stderr",
     "output_type": "stream",
     "text": [
      "C:\\Users\\jeff8977\\AppData\\Local\\Continuum\\miniconda3\\envs\\gdelt\\lib\\site-packages\\PIL\\TiffImagePlugin.py:763: UserWarning: Possibly corrupt EXIF data.  Expecting to read 264 bytes but only got 154. Skipping tag 37510\n",
      "  \" Skipping tag %s\" % (size, len(data), tag))\n",
      "C:\\Users\\jeff8977\\AppData\\Local\\Continuum\\miniconda3\\envs\\gdelt\\lib\\site-packages\\PIL\\TiffImagePlugin.py:763: UserWarning: Possibly corrupt EXIF data.  Expecting to read 39 bytes but only got 0. Skipping tag 42036\n",
      "  \" Skipping tag %s\" % (size, len(data), tag))\n"
     ]
    },
    {
     "name": "stdout",
     "output_type": "stream",
     "text": [
      "Processed: 20180409_20180414\n",
      "Processed: 20160222_20160225\n",
      "Processed: 20150209_20150214\n",
      "Processed: 20161002_20161007\n",
      "Processed: 20150915_20150917\n",
      "Processed: 20160307_20160312\n",
      "Processed: 20170424_20170429\n",
      "Processed: 20180207_20180209\n",
      "Processed: 20190107_20190112\n",
      "Processed: 20180803_20180818\n",
      "Processed: 20180228_20180303\n",
      "Processed: 20180723_20180726\n",
      "Processed: 20150728_20150811\n",
      "Wall time: 5h 6min 38s\n"
     ]
    }
   ],
   "source": [
    "%%time\n",
    "window_urls = {}\n",
    "\n",
    "for window in windows:\n",
    "    \n",
    "    with get_connection() as con:\n",
    "        with con.cursor() as cur:\n",
    "            \n",
    "            left, right = window.split('_')\n",
    "\n",
    "            cur.execute(f'''\n",
    "                        select sourceurl\n",
    "                        from gdelt_hate\n",
    "                        where sqldate between '{left}' and  '{right}'\n",
    "                        ''')\n",
    "\n",
    "            base_text = ' '.join([text_fetch(r[0]) for r in cur.fetchall()])\n",
    "\n",
    "            cur.execute(f'''\n",
    "                        insert into documents values ('{window}', '{base_text}')\n",
    "                        ''')\n",
    "\n",
    "            print(f'Processed: {window}')"
   ]
  },
  {
   "cell_type": "code",
   "execution_count": null,
   "metadata": {},
   "outputs": [],
   "source": []
  }
 ],
 "metadata": {
  "kernelspec": {
   "display_name": "Python 3",
   "language": "python",
   "name": "python3"
  },
  "language_info": {
   "codemirror_mode": {
    "name": "ipython",
    "version": 3
   },
   "file_extension": ".py",
   "mimetype": "text/x-python",
   "name": "python",
   "nbconvert_exporter": "python",
   "pygments_lexer": "ipython3",
   "version": "3.7.2"
  }
 },
 "nbformat": 4,
 "nbformat_minor": 2
}
